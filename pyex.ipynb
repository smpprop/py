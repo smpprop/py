{
 "cells": [
  {
   "cell_type": "code",
   "execution_count": 21,
   "id": "496588b1",
   "metadata": {},
   "outputs": [
    {
     "name": "stdout",
     "output_type": "stream",
     "text": [
      "[2]\n"
     ]
    }
   ],
   "source": [
    "list1 = []\n",
    "unique_list = []\n",
    "n = int(input(\"Enter the numb of list:\"))\n",
    "for i in range(n):\n",
    "    item = int(input(\"Enter list in item:\"))\n",
    "    list1.append(item)\n",
    "for x in list1:\n",
    "    if list1.count(x) == 1:\n",
    "        unique_list.append(x)\n",
    "print(unique_list)"
   ]
  },
  {
   "cell_type": "code",
   "execution_count": 22,
   "id": "c389ecf0",
   "metadata": {},
   "outputs": [
    {
     "name": "stdout",
     "output_type": "stream",
     "text": [
      "Area of rect is:12.0\n",
      "Area of tri is:506.0\n",
      "Area of circle is:560244.3264\n",
      "Area of square is:4.0\n"
     ]
    }
   ],
   "source": [
    "def rect(l,b):\n",
    "    area = l * b\n",
    "    print(f\"Area of rect is:{area}\")\n",
    "l = float(input(\"Enter length of rect:\"))\n",
    "b = float(input(\"Enter breath of rect:\"))\n",
    "rect(l,b)\n",
    "\n",
    "def tri(b,h):\n",
    "    area = (b * h) /2\n",
    "    print(f\"Area of tri is:{area}\")\n",
    "b = float(input(\"Enter breath of tri:\"))\n",
    "h = float(input(\"Enter height of tri:\"))\n",
    "tri(b,h)\n",
    "\n",
    "def circle(r):\n",
    "    area = 3.14 * r * r\n",
    "    print(f\"Area of circle is:{area}\")\n",
    "r = float(input(\"Enter radius of circle:\"))\n",
    "circle(r)\n",
    "\n",
    "\n",
    "def square(s):\n",
    "    area = s*s\n",
    "    print(f\"Area of square is:{area}\")\n",
    "s = float(input(\"Enter sides of squres:\"))\n",
    "square(s)"
   ]
  },
  {
   "cell_type": "code",
   "execution_count": 34,
   "id": "f4f61ec8",
   "metadata": {},
   "outputs": [
    {
     "name": "stdout",
     "output_type": "stream",
     "text": [
      "First half:\n",
      " (1, 2, 5, 7, 97)\n",
      "First second:\n",
      " (24, 6, 8, 10)\n",
      "Tupple with even values:\n",
      " (2, 24, 6, 8, 10)\n",
      "Tuple Concatination:\n",
      " (1, 2, 5, 7, 97, 24, 6, 8, 10, 11, 13, 15)\n",
      "Tuple max:\n",
      " 97\n",
      "Tuple min:\n",
      " 1\n"
     ]
    }
   ],
   "source": [
    "t1 = (1,2,5,7,97,24,6,8,10)\n",
    "t2 = (11,13,15)\n",
    "\n",
    "print(\"First half:\\n\",t1[:5])\n",
    "print(\"First second:\\n\",t1[5:])\n",
    "\n",
    "lst = list()\n",
    "for x in t1:\n",
    "    if x % 2 == 0:\n",
    "        lst.append(x)\n",
    "print(\"Tupple with even values:\\n\",tuple(lst))\n",
    "t1 = t1+t2\n",
    "print(\"Tuple Concatination:\\n\",t1)\n",
    "print(\"Tuple max:\\n\",max(t1))\n",
    "print(\"Tuple min:\\n\",min(t1))\n",
    "\n"
   ]
  },
  {
   "cell_type": "code",
   "execution_count": 36,
   "id": "f5c9215e",
   "metadata": {},
   "outputs": [
    {
     "name": "stdout",
     "output_type": "stream",
     "text": [
      "Frq of char:{'a': 3, 'k': 1, 's': 1, 'h': 1, 'y': 1}\n"
     ]
    }
   ],
   "source": [
    "input_str = input('Enter the input strings:')\n",
    "freq_all = {}\n",
    "for x in input_str:\n",
    "    if x in freq_all:\n",
    "        freq_all[x] += 1\n",
    "    else:\n",
    "        freq_all[x] = 1\n",
    "print(f\"Frq of char:{str(freq_all)}\")"
   ]
  },
  {
   "cell_type": "code",
   "execution_count": 37,
   "id": "a1afa5dc",
   "metadata": {},
   "outputs": [
    {
     "name": "stdout",
     "output_type": "stream",
     "text": [
      "False\n",
      "True\n"
     ]
    }
   ],
   "source": [
    "def nearly_equal(a,b):\n",
    "    if(len(a)!=len(b)):\n",
    "        return False\n",
    "    count = 0\n",
    "    for i in range(len(a)):\n",
    "        if a[i] != b[i]:\n",
    "            count += 1\n",
    "        if count  > 1:\n",
    "            return False\n",
    "    return count == 1\n",
    "print(nearly_equal(\"Hello\",'illa'))\n",
    "print(nearly_equal(\"Hello\",'hello'))"
   ]
  },
  {
   "cell_type": "code",
   "execution_count": 38,
   "id": "e42b3064",
   "metadata": {},
   "outputs": [
    {
     "name": "stdout",
     "output_type": "stream",
     "text": [
      "Num of char:26\n",
      "Num of line:2\n",
      "Num of words:4\n"
     ]
    }
   ],
   "source": [
    "char = word = line_count = 0\n",
    "with open('text.txt','w') as fp:\n",
    "    fp.write(\"old content \\n new contents\")\n",
    "with open('text.txt','r') as fp:\n",
    "    for line in fp:\n",
    "        line_count += 1\n",
    "        word += len(line.split())\n",
    "        char += len(line)\n",
    "\n",
    "print(f\"Num of char:{char}\")\n",
    "print(f\"Num of line:{line_count}\")\n",
    "print(f\"Num of words:{word}\")"
   ]
  },
  {
   "cell_type": "code",
   "execution_count": 4,
   "id": "a8c61889",
   "metadata": {},
   "outputs": [
    {
     "name": "stdout",
     "output_type": "stream",
     "text": [
      "Try high value\n",
      "Try low value\n",
      "Your guess is correct\n"
     ]
    }
   ],
   "source": [
    "class TooHighException(Exception):\n",
    "    pass\n",
    "class TooLowException(Exception):\n",
    "    pass\n",
    "class CorrectException(Exception):\n",
    "    pass\n",
    "\n",
    "def guess_number():\n",
    "    stored_num = 42\n",
    "\n",
    "    while True:\n",
    "        try:\n",
    "            user_input = int(input(\"Enter your guess:\"))\n",
    "        \n",
    "            if user_input > stored_num:\n",
    "                raise TooHighException\n",
    "            elif user_input < stored_num:\n",
    "                raise TooLowException\n",
    "            else:\n",
    "                raise CorrectException\n",
    "        \n",
    "        except TooLowException:\n",
    "            print(\"Try high value\")\n",
    "        except TooHighException:\n",
    "            print(\"Try low value\")\n",
    "        except CorrectException:\n",
    "            print(\"Your guess is correct\")\n",
    "            break\n",
    "        except ValueError:\n",
    "            print(\"Input Vaid value!\")\n",
    "\n",
    "guess_number()"
   ]
  },
  {
   "cell_type": "code",
   "execution_count": 8,
   "id": "d3825e2b",
   "metadata": {},
   "outputs": [
    {
     "name": "stdout",
     "output_type": "stream",
     "text": [
      "   rollno name  total_marks\n",
      "0       1    x           10\n",
      "1       2    y           20\n",
      "2       3    z           30\n",
      "3       4    a           20\n",
      "4       5    b           30\n",
      "5       6    c           40\n"
     ]
    }
   ],
   "source": [
    "from pandas import *\n",
    "\n",
    "data1 = {\n",
    "    'rollno':[1,2,3],\n",
    "    'name':['x','y','z'],\n",
    "    'total_marks':[10,20,30]\n",
    "}\n",
    "df1 = DataFrame(data1)\n",
    "data2 = {\n",
    "    'rollno':[4,5,6],\n",
    "    'name':['a','b','c'],\n",
    "    'total_marks':[20,30,40]\n",
    "}\n",
    "df2 = DataFrame(data2)\n",
    "\n",
    "print(concat([df1,df2],ignore_index=True))"
   ]
  },
  {
   "cell_type": "code",
   "execution_count": null,
   "id": "80a0ef11",
   "metadata": {},
   "outputs": [],
   "source": []
  }
 ],
 "metadata": {
  "kernelspec": {
   "display_name": "Python 3",
   "language": "python",
   "name": "python3"
  },
  "language_info": {
   "codemirror_mode": {
    "name": "ipython",
    "version": 3
   },
   "file_extension": ".py",
   "mimetype": "text/x-python",
   "name": "python",
   "nbconvert_exporter": "python",
   "pygments_lexer": "ipython3",
   "version": "3.10.11"
  }
 },
 "nbformat": 4,
 "nbformat_minor": 5
}
